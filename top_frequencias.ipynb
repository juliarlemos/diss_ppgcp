{
  "nbformat": 4,
  "nbformat_minor": 0,
  "metadata": {
    "colab": {
      "provenance": []
    },
    "kernelspec": {
      "name": "python3",
      "display_name": "Python 3"
    },
    "language_info": {
      "name": "python"
    }
  },
  "cells": [
    {
      "cell_type": "code",
      "execution_count": null,
      "metadata": {
        "id": "uiI-i6BOEpKn"
      },
      "outputs": [],
      "source": [
        "import pandas as pd\n",
        "import matplotlib.pyplot as plt\n",
        "import nltk\n",
        "from nltk import FreqDist\n",
        "\n",
        "candidato = \"Bolsonaro\" #coluna apelido\n",
        "base = ig_post #base\n",
        "variavel = \"Description\" #coluna com texto das publicações\n",
        "\n",
        "titulo = \"Bolsonaro\" #título do gráfico\n",
        "quantidade = 30 #quantidade de termos\n",
        "maximo = 100 #largura do gráfico\n",
        "espaco = 25 #espaçamento entre linhas verticais\n",
        "\n",
        "base_tokens = tokenizar(base[base[\"Apelido\"] == candidato], variavel)\n",
        "frequencia = FreqDist(base_tokens)\n",
        "frequenciasr = pd.Series(dict(frequencia.most_common(quantidade)))\n",
        "frequenciasr.sort_values(ascending=True, inplace=True)\n",
        "\n",
        "plt.rcParams[\"figure.dpi\"] = 500\n",
        "fig, ax = plt.subplots(figsize=(2.3,7))\n",
        "\n",
        "#ajustando o fundo da figura e do gráfico\n",
        "fig.patch.set_facecolor(\"#ffffff\")\n",
        "ax.set_facecolor(\"#ffffff\")\n",
        "\n",
        "#ajustando as grades\n",
        "ax.spines[\"left\"].set_color(GREY75)\n",
        "ax.spines[\"bottom\"].set_color(GREY91)\n",
        "ax.spines['bottom'].set_bounds((0, maximo))\n",
        "ax.spines[\"right\"].set_color(\"none\")\n",
        "ax.spines[\"top\"].set_color(\"none\")\n",
        "ax.tick_params(axis=\"y\", length=3, color=GREY75) \n",
        "ax.tick_params(axis=\"x\", length=12, color=GREY91) #formatar o tracinho da etiqueta\n",
        "ax.set_ylim((-0.5, 29.5)) #ajustando a altura do eixo y pra não ficar margem demais\n",
        "for i in range(0, maximo+1, espaco): ax.axvline(i, color=GREY91, lw=0.9, zorder=0) #adicionando linhas verticais\n",
        "\n",
        "#dados\n",
        "plt.barh(frequenciasr.index, frequenciasr.values, height=0.8, color=cores[candidato])\n",
        "plt.yticks(fontsize=13, fontname=\"Montserrat\")\n",
        "plt.xticks(fontsize=13, fontname=\"Montserrat\")\n",
        "plt.title(titulo, fontsize=14, fontname=\"Montserrat\") #título\n",
        "plt.show()"
      ]
    }
  ]
}