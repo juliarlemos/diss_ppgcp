{
  "nbformat": 4,
  "nbformat_minor": 0,
  "metadata": {
    "colab": {
      "provenance": []
    },
    "kernelspec": {
      "name": "python3",
      "display_name": "Python 3"
    },
    "language_info": {
      "name": "python"
    }
  },
  "cells": [
    {
      "cell_type": "code",
      "execution_count": null,
      "metadata": {
        "id": "uiI-i6BOEpKn"
      },
      "outputs": [],
      "source": [
        "import pandas as pd\n",
        "import numpy as np\n",
        "\n",
        "tt_perfil = pd.read_excel(\"tt_perfil.xlsx\")\n",
        "tt_post =  pd.read_excel(\"tt_posts.xlsx\")\n",
        "fb_perfil = pd.read_excel(\"fb_perfil.xlsx\")\n",
        "fb_post = pd.read_excel(\"fb_posts.xlsx\")\n",
        "ig_perfil = pd.read_excel(\"ig_perfil.xlsx\")\n",
        "ig_post = pd.read_excel(\"ig_posts.xlsx\")\n",
        "\n",
        "\n",
        "#tt_perfil\n",
        "\n",
        "tt_perfil['date'] = pd.to_datetime(tt_perfil[\"date\"])\n",
        "tt_perfil['Apelido'] = pd.Categorical(tt_perfil['Apelido'])\n",
        "\n",
        "tt_perfil = tt_perfil.sort_values(['Apelido', 'date']) #filtrando os dados primeiro por data e depois por apelido\n",
        "tt_perfil['saldo_seguidores'] = tt_perfil['followers_count'].diff() #criando a saldo seguidores pela diferença com a linha anterior\n",
        "tt_perfil['publicacoes'] = tt_perfil['tweet_count'].diff() #criando a publicacoes pela diferença com a linha anterior\n",
        "\n",
        "#tt_post\n",
        "\n",
        "tt_post['engajamento'] = tt_post['public_metrics.like_count'] + tt_post['public_metrics.quote_count'] + tt_post['public_metrics.reply_count'] + tt_post['public_metrics.retweet_count']\n",
        "\n",
        "#fb_perfil\n",
        "\n",
        "fb_perfil['Apelido'] = pd.Categorical(fb_perfil['Apelido'])\n",
        "fb_perfil['Grupo'] = pd.Categorical(fb_perfil['Grupo'])\n",
        "\n",
        "fb_perfil = fb_perfil.sort_values(['Apelido', 'Beginning Of Interval']) #filtrando os dados primeiro por data e depois por apelido\n",
        "fb_perfil['saldo_seguidores'] = fb_perfil['Followers'].diff() #criando a saldo seguidores pela diferença com a linha anterior\n",
        "\n",
        "#fb_post\n",
        "\n",
        "fb_post['engajamento'] = fb_post['Likes'] + fb_post['Comments'] + fb_post['Shares'] + fb_post['Love'] + fb_post['Wow'] + fb_post['Haha'] + fb_post['Sad'] + fb_post['Angry'] + fb_post['Care']\n",
        "\n",
        "#ig_perfil\n",
        "\n",
        "ig_perfil['Apelido'] = pd.Categorical(ig_perfil['Apelido'])\n",
        "ig_perfil['Grupo'] = pd.Categorical(ig_perfil['Grupo'])\n",
        "\n",
        "ig_perfil = ig_perfil.sort_values(['Apelido', 'Beginning Of Interval']) #filtrando os dados primeiro por data e depois por apelido\n",
        "ig_perfil['saldo_seguidores'] = ig_perfil['Followers'].diff() #criando a saldo seguidores pela diferença com a linha anterior\n",
        "\n",
        "#ig_post\n",
        "\n",
        "ig_post['engajamento'] = ig_post['Likes'] + ig_post['Comments']"
      ]
    }
  ]
}
